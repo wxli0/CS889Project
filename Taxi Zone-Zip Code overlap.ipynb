{
 "cells": [
  {
   "cell_type": "code",
   "execution_count": 1,
   "id": "fd97262d",
   "metadata": {},
   "outputs": [],
   "source": [
    "import geojson\n",
    "from shapely.geometry import Polygon\n",
    "import numpy as np\n",
    "import pandas as pd"
   ]
  },
  {
   "cell_type": "code",
   "execution_count": 2,
   "id": "09b4416b",
   "metadata": {},
   "outputs": [],
   "source": [
    "with open('map_data/taxi_zones.geojson') as f:\n",
    "    taxi_zones = geojson.load(f)\n",
    "    \n",
    "with open('map_data/zip_codes.geojson') as f:\n",
    "    zip_codes = geojson.load(f)"
   ]
  },
  {
   "cell_type": "code",
   "execution_count": 3,
   "id": "bbf685c6",
   "metadata": {},
   "outputs": [],
   "source": [
    "taxi_zone_list = []\n",
    "zip_code_list = []\n",
    "\n",
    "for i in range(len(taxi_zones[\"features\"])):\n",
    "    taxi_zone_i = Polygon(taxi_zones[\"features\"][i][\"geometry\"][\"coordinates\"][0])\n",
    "    for j in range(len(zip_codes[\"features\"])):\n",
    "        zip_code_j = Polygon(zip_codes[\"features\"][j][\"geometry\"][\"coordinates\"][0])\n",
    "        if taxi_zone_i.intersects(zip_code_j):\n",
    "            taxi_zone_list.append(taxi_zones[\"features\"][i][\"properties\"][\"LocationID\"])\n",
    "            zip_code_list.append(zip_codes[\"features\"][j][\"properties\"][\"postalCode\"])\n",
    "    \n",
    "df = pd.DataFrame({\"LocationID\": taxi_zone_list, \"zip_code\": zip_code_list})"
   ]
  },
  {
   "cell_type": "code",
   "execution_count": 4,
   "id": "97171933",
   "metadata": {},
   "outputs": [],
   "source": [
    "df.to_csv(\"taxi_zip_overlap.csv\", encoding='utf-8', index=False)"
   ]
  },
  {
   "cell_type": "code",
   "execution_count": null,
   "id": "021a2373",
   "metadata": {},
   "outputs": [],
   "source": []
  }
 ],
 "metadata": {
  "kernelspec": {
   "display_name": "Python 3 (ipykernel)",
   "language": "python",
   "name": "python3"
  },
  "language_info": {
   "codemirror_mode": {
    "name": "ipython",
    "version": 3
   },
   "file_extension": ".py",
   "mimetype": "text/x-python",
   "name": "python",
   "nbconvert_exporter": "python",
   "pygments_lexer": "ipython3",
   "version": "3.8.10"
  }
 },
 "nbformat": 4,
 "nbformat_minor": 5
}
