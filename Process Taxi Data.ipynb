{
 "cells": [
  {
   "cell_type": "code",
   "execution_count": 12,
   "id": "c8ef3f3c",
   "metadata": {},
   "outputs": [],
   "source": [
    "import pandas as pd\n",
    "from os import path"
   ]
  },
  {
   "cell_type": "code",
   "execution_count": 15,
   "id": "fb91b44f",
   "metadata": {},
   "outputs": [],
   "source": [
    "def process_data(taxi_type, month):\n",
    "    data_path = \"taxi_data/\"+taxi_type+\"_tripdata_2020-0\"+str(month)+\".csv\"\n",
    "    if not path.exists(data_path):\n",
    "        return None\n",
    "    print(data_path)\n",
    "    df = pd.read_csv(data_path)\n",
    "    groups = df.groupby(\"PULocationID\")\n",
    "    location_ids = []\n",
    "    taxi_types = []\n",
    "    num_trips = []\n",
    "    total_amounts = []\n",
    "    for location_id, table in groups:\n",
    "        num_trip = len(table.index)\n",
    "        total_amount = table.mean()[\"total_amount\"]\n",
    "        location_ids.append(location_id)\n",
    "        taxi_types.append(taxi_type)\n",
    "        num_trips.append(num_trip)\n",
    "        total_amounts.append(total_amount)\n",
    "    return pd.DataFrame(data = {\"location_id\": location_ids, \"taxi_type\": taxi_types, \"num_trips\": num_trips, \"average_cost\":total_amounts})"
   ]
  },
  {
   "cell_type": "code",
   "execution_count": null,
   "id": "9e63bf34",
   "metadata": {},
   "outputs": [
    {
     "name": "stdout",
     "output_type": "stream",
     "text": [
      "taxi_data/green_tripdata_2020-01.csv\n"
     ]
    },
    {
     "name": "stderr",
     "output_type": "stream",
     "text": [
      "/home/cbostanc/anaconda3/lib/python3.8/site-packages/IPython/core/interactiveshell.py:3357: DtypeWarning: Columns (3) have mixed types.Specify dtype option on import or set low_memory=False.\n",
      "  if (await self.run_code(code, result,  async_=asy)):\n"
     ]
    },
    {
     "name": "stdout",
     "output_type": "stream",
     "text": [
      "taxi_data/yellow_tripdata_2020-01.csv\n"
     ]
    },
    {
     "name": "stderr",
     "output_type": "stream",
     "text": [
      "/home/cbostanc/anaconda3/lib/python3.8/site-packages/IPython/core/interactiveshell.py:3357: DtypeWarning: Columns (6) have mixed types.Specify dtype option on import or set low_memory=False.\n",
      "  if (await self.run_code(code, result,  async_=asy)):\n"
     ]
    },
    {
     "name": "stdout",
     "output_type": "stream",
     "text": [
      "taxi_data/green_tripdata_2020-02.csv\n",
      "taxi_data/yellow_tripdata_2020-02.csv\n"
     ]
    }
   ],
   "source": [
    "list_of_dataframes = []\n",
    "for month in range(6):\n",
    "    taxi_types = [\"green\", \"yellow\"]\n",
    "    for taxi_type in taxi_types:\n",
    "        data = process_data(taxi_type, month+1)\n",
    "        if data is None:\n",
    "            continue\n",
    "        list_of_dataframes.append(data)\n",
    "    df = pd.concat(list_of_dataframes)\n",
    "    df.to_csv(\"taxi_data_2020-0\"+str(month+1)+\".csv\")"
   ]
  },
  {
   "cell_type": "code",
   "execution_count": null,
   "id": "fae580c3",
   "metadata": {},
   "outputs": [],
   "source": []
  }
 ],
 "metadata": {
  "kernelspec": {
   "display_name": "Python 3",
   "language": "python",
   "name": "python3"
  },
  "language_info": {
   "codemirror_mode": {
    "name": "ipython",
    "version": 3
   },
   "file_extension": ".py",
   "mimetype": "text/x-python",
   "name": "python",
   "nbconvert_exporter": "python",
   "pygments_lexer": "ipython3",
   "version": "3.8.3"
  }
 },
 "nbformat": 4,
 "nbformat_minor": 5
}
