{
 "cells": [
  {
   "cell_type": "code",
   "execution_count": 1,
   "id": "cd8fdf78",
   "metadata": {},
   "outputs": [],
   "source": [
    "import pandas as pd\n",
    "import numpy as np"
   ]
  },
  {
   "cell_type": "code",
   "execution_count": 2,
   "id": "b93c4bba",
   "metadata": {},
   "outputs": [],
   "source": [
    "df = pd.read_csv(\"covid_data/hosprate-by-modzcta.csv\")"
   ]
  },
  {
   "cell_type": "code",
   "execution_count": 20,
   "id": "e3e94386",
   "metadata": {},
   "outputs": [],
   "source": [
    "dates = []\n",
    "zip_codes = []\n",
    "hosp_rates = []"
   ]
  },
  {
   "cell_type": "code",
   "execution_count": 24,
   "id": "9e38a962",
   "metadata": {},
   "outputs": [],
   "source": [
    "for row in df.iterrows():\n",
    "    for column in df.columns[7:]:\n",
    "        dates.append(row[1][\"date\"])\n",
    "        zip_codes.append(int(column[-5:]))\n",
    "        hosp_rates.append(row[1][column])\n",
    "\n",
    "processed_pd.DataFrame({\"date\":dates, \"zip_code\":zip_codes, \"hospitalization_rate\": hosp_rate})"
   ]
  },
  {
   "cell_type": "code",
   "execution_count": 16,
   "id": "4b5bb54a",
   "metadata": {},
   "outputs": [
    {
     "data": {
      "text/plain": [
       "'10001'"
      ]
     },
     "execution_count": 16,
     "metadata": {},
     "output_type": "execute_result"
    }
   ],
   "source": [
    "df.columns[7:][0][-5:]"
   ]
  },
  {
   "cell_type": "code",
   "execution_count": null,
   "id": "96be3ad3",
   "metadata": {},
   "outputs": [],
   "source": []
  }
 ],
 "metadata": {
  "kernelspec": {
   "display_name": "Python 3",
   "language": "python",
   "name": "python3"
  },
  "language_info": {
   "codemirror_mode": {
    "name": "ipython",
    "version": 3
   },
   "file_extension": ".py",
   "mimetype": "text/x-python",
   "name": "python",
   "nbconvert_exporter": "python",
   "pygments_lexer": "ipython3",
   "version": "3.8.3"
  }
 },
 "nbformat": 4,
 "nbformat_minor": 5
}
